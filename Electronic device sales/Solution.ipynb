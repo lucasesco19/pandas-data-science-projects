{
 "cells": [
  {
   "cell_type": "markdown",
   "metadata": {},
   "source": [
    "# Electronic device sales analysis"
   ]
  },
  {
   "cell_type": "markdown",
   "metadata": {},
   "source": [
    "## Data importation\n",
    "\n",
    "Due to the data are separated by month, all the files are merged into one file"
   ]
  },
  {
   "cell_type": "code",
   "execution_count": 86,
   "metadata": {},
   "outputs": [
    {
     "data": {
      "text/html": [
       "<div>\n",
       "<style scoped>\n",
       "    .dataframe tbody tr th:only-of-type {\n",
       "        vertical-align: middle;\n",
       "    }\n",
       "\n",
       "    .dataframe tbody tr th {\n",
       "        vertical-align: top;\n",
       "    }\n",
       "\n",
       "    .dataframe thead th {\n",
       "        text-align: right;\n",
       "    }\n",
       "</style>\n",
       "<table border=\"1\" class=\"dataframe\">\n",
       "  <thead>\n",
       "    <tr style=\"text-align: right;\">\n",
       "      <th></th>\n",
       "      <th>Order ID</th>\n",
       "      <th>Product</th>\n",
       "      <th>Quantity Ordered</th>\n",
       "      <th>Price Each</th>\n",
       "      <th>Order Date</th>\n",
       "      <th>Purchase Address</th>\n",
       "    </tr>\n",
       "  </thead>\n",
       "  <tbody>\n",
       "    <tr>\n",
       "      <th>0</th>\n",
       "      <td>259358</td>\n",
       "      <td>34in Ultrawide Monitor</td>\n",
       "      <td>1</td>\n",
       "      <td>379.99</td>\n",
       "      <td>10/28/19 10:56</td>\n",
       "      <td>609 Cherry St, Dallas, TX 75001</td>\n",
       "    </tr>\n",
       "    <tr>\n",
       "      <th>1</th>\n",
       "      <td>259359</td>\n",
       "      <td>27in 4K Gaming Monitor</td>\n",
       "      <td>1</td>\n",
       "      <td>389.99</td>\n",
       "      <td>10/28/19 17:26</td>\n",
       "      <td>225 5th St, Los Angeles, CA 90001</td>\n",
       "    </tr>\n",
       "    <tr>\n",
       "      <th>2</th>\n",
       "      <td>259360</td>\n",
       "      <td>AAA Batteries (4-pack)</td>\n",
       "      <td>2</td>\n",
       "      <td>2.99</td>\n",
       "      <td>10/24/19 17:20</td>\n",
       "      <td>967 12th St, New York City, NY 10001</td>\n",
       "    </tr>\n",
       "    <tr>\n",
       "      <th>3</th>\n",
       "      <td>259361</td>\n",
       "      <td>27in FHD Monitor</td>\n",
       "      <td>1</td>\n",
       "      <td>149.99</td>\n",
       "      <td>10/14/19 22:26</td>\n",
       "      <td>628 Jefferson St, New York City, NY 10001</td>\n",
       "    </tr>\n",
       "    <tr>\n",
       "      <th>4</th>\n",
       "      <td>259362</td>\n",
       "      <td>Wired Headphones</td>\n",
       "      <td>1</td>\n",
       "      <td>11.99</td>\n",
       "      <td>10/07/19 16:10</td>\n",
       "      <td>534 14th St, Los Angeles, CA 90001</td>\n",
       "    </tr>\n",
       "  </tbody>\n",
       "</table>\n",
       "</div>"
      ],
      "text/plain": [
       "  Order ID                 Product Quantity Ordered Price Each  \\\n",
       "0   259358  34in Ultrawide Monitor                1     379.99   \n",
       "1   259359  27in 4K Gaming Monitor                1     389.99   \n",
       "2   259360  AAA Batteries (4-pack)                2       2.99   \n",
       "3   259361        27in FHD Monitor                1     149.99   \n",
       "4   259362        Wired Headphones                1      11.99   \n",
       "\n",
       "       Order Date                           Purchase Address  \n",
       "0  10/28/19 10:56            609 Cherry St, Dallas, TX 75001  \n",
       "1  10/28/19 17:26          225 5th St, Los Angeles, CA 90001  \n",
       "2  10/24/19 17:20       967 12th St, New York City, NY 10001  \n",
       "3  10/14/19 22:26  628 Jefferson St, New York City, NY 10001  \n",
       "4  10/07/19 16:10         534 14th St, Los Angeles, CA 90001  "
      ]
     },
     "execution_count": 86,
     "metadata": {},
     "output_type": "execute_result"
    }
   ],
   "source": [
    "import pandas as pd \n",
    "import os\n",
    "\n",
    "files=os.listdir('./SalesData')\n",
    "\n",
    "df=pd.DataFrame()\n",
    "\n",
    "for file in files:\n",
    "    df=pd.concat([df,pd.read_csv('./SalesData/'+file)])\n",
    "\n",
    "df.to_csv(\"all_data.csv\",index=False)\n",
    "\n",
    "df= pd.read_csv('all_data.csv')\n",
    "\n",
    "df.head(5)"
   ]
  },
  {
   "cell_type": "markdown",
   "metadata": {},
   "source": [
    "## Clean data\n",
    "\n",
    "Delete the 'nan and 'or' values."
   ]
  },
  {
   "cell_type": "code",
   "execution_count": 87,
   "metadata": {},
   "outputs": [
    {
     "data": {
      "text/html": [
       "<div>\n",
       "<style scoped>\n",
       "    .dataframe tbody tr th:only-of-type {\n",
       "        vertical-align: middle;\n",
       "    }\n",
       "\n",
       "    .dataframe tbody tr th {\n",
       "        vertical-align: top;\n",
       "    }\n",
       "\n",
       "    .dataframe thead th {\n",
       "        text-align: right;\n",
       "    }\n",
       "</style>\n",
       "<table border=\"1\" class=\"dataframe\">\n",
       "  <thead>\n",
       "    <tr style=\"text-align: right;\">\n",
       "      <th></th>\n",
       "      <th>Order ID</th>\n",
       "      <th>Product</th>\n",
       "      <th>Quantity Ordered</th>\n",
       "      <th>Price Each</th>\n",
       "      <th>Order Date</th>\n",
       "      <th>Purchase Address</th>\n",
       "    </tr>\n",
       "  </thead>\n",
       "  <tbody>\n",
       "    <tr>\n",
       "      <th>0</th>\n",
       "      <td>259358</td>\n",
       "      <td>34in Ultrawide Monitor</td>\n",
       "      <td>1</td>\n",
       "      <td>379.99</td>\n",
       "      <td>10/28/19 10:56</td>\n",
       "      <td>609 Cherry St, Dallas, TX 75001</td>\n",
       "    </tr>\n",
       "    <tr>\n",
       "      <th>1</th>\n",
       "      <td>259359</td>\n",
       "      <td>27in 4K Gaming Monitor</td>\n",
       "      <td>1</td>\n",
       "      <td>389.99</td>\n",
       "      <td>10/28/19 17:26</td>\n",
       "      <td>225 5th St, Los Angeles, CA 90001</td>\n",
       "    </tr>\n",
       "    <tr>\n",
       "      <th>2</th>\n",
       "      <td>259360</td>\n",
       "      <td>AAA Batteries (4-pack)</td>\n",
       "      <td>2</td>\n",
       "      <td>2.99</td>\n",
       "      <td>10/24/19 17:20</td>\n",
       "      <td>967 12th St, New York City, NY 10001</td>\n",
       "    </tr>\n",
       "    <tr>\n",
       "      <th>3</th>\n",
       "      <td>259361</td>\n",
       "      <td>27in FHD Monitor</td>\n",
       "      <td>1</td>\n",
       "      <td>149.99</td>\n",
       "      <td>10/14/19 22:26</td>\n",
       "      <td>628 Jefferson St, New York City, NY 10001</td>\n",
       "    </tr>\n",
       "    <tr>\n",
       "      <th>4</th>\n",
       "      <td>259362</td>\n",
       "      <td>Wired Headphones</td>\n",
       "      <td>1</td>\n",
       "      <td>11.99</td>\n",
       "      <td>10/07/19 16:10</td>\n",
       "      <td>534 14th St, Los Angeles, CA 90001</td>\n",
       "    </tr>\n",
       "  </tbody>\n",
       "</table>\n",
       "</div>"
      ],
      "text/plain": [
       "  Order ID                 Product Quantity Ordered Price Each  \\\n",
       "0   259358  34in Ultrawide Monitor                1     379.99   \n",
       "1   259359  27in 4K Gaming Monitor                1     389.99   \n",
       "2   259360  AAA Batteries (4-pack)                2       2.99   \n",
       "3   259361        27in FHD Monitor                1     149.99   \n",
       "4   259362        Wired Headphones                1      11.99   \n",
       "\n",
       "       Order Date                           Purchase Address  \n",
       "0  10/28/19 10:56            609 Cherry St, Dallas, TX 75001  \n",
       "1  10/28/19 17:26          225 5th St, Los Angeles, CA 90001  \n",
       "2  10/24/19 17:20       967 12th St, New York City, NY 10001  \n",
       "3  10/14/19 22:26  628 Jefferson St, New York City, NY 10001  \n",
       "4  10/07/19 16:10         534 14th St, Los Angeles, CA 90001  "
      ]
     },
     "execution_count": 87,
     "metadata": {},
     "output_type": "execute_result"
    }
   ],
   "source": [
    "df=df.dropna(how='any')\n",
    "\n",
    "#df=df[df['Order Date'].str[0:2] != 'Or'] two different ways to do it.\n",
    "df=df.loc[df['Order Date'].str[0:2] != 'Or']\n",
    "\n",
    "df.head(5)"
   ]
  },
  {
   "cell_type": "markdown",
   "metadata": {},
   "source": [
    "## Month sales analysis"
   ]
  },
  {
   "cell_type": "code",
   "execution_count": 88,
   "metadata": {},
   "outputs": [
    {
     "data": {
      "text/html": [
       "<div>\n",
       "<style scoped>\n",
       "    .dataframe tbody tr th:only-of-type {\n",
       "        vertical-align: middle;\n",
       "    }\n",
       "\n",
       "    .dataframe tbody tr th {\n",
       "        vertical-align: top;\n",
       "    }\n",
       "\n",
       "    .dataframe thead th {\n",
       "        text-align: right;\n",
       "    }\n",
       "</style>\n",
       "<table border=\"1\" class=\"dataframe\">\n",
       "  <thead>\n",
       "    <tr style=\"text-align: right;\">\n",
       "      <th></th>\n",
       "      <th>Order ID</th>\n",
       "      <th>Product</th>\n",
       "      <th>Quantity Ordered</th>\n",
       "      <th>Price Each</th>\n",
       "      <th>Order Date</th>\n",
       "      <th>Purchase Address</th>\n",
       "      <th>Month</th>\n",
       "      <th>Sales</th>\n",
       "    </tr>\n",
       "  </thead>\n",
       "  <tbody>\n",
       "    <tr>\n",
       "      <th>0</th>\n",
       "      <td>259358</td>\n",
       "      <td>34in Ultrawide Monitor</td>\n",
       "      <td>1</td>\n",
       "      <td>379.99</td>\n",
       "      <td>10/28/19 10:56</td>\n",
       "      <td>609 Cherry St, Dallas, TX 75001</td>\n",
       "      <td>10</td>\n",
       "      <td>379.99</td>\n",
       "    </tr>\n",
       "    <tr>\n",
       "      <th>1</th>\n",
       "      <td>259359</td>\n",
       "      <td>27in 4K Gaming Monitor</td>\n",
       "      <td>1</td>\n",
       "      <td>389.99</td>\n",
       "      <td>10/28/19 17:26</td>\n",
       "      <td>225 5th St, Los Angeles, CA 90001</td>\n",
       "      <td>10</td>\n",
       "      <td>389.99</td>\n",
       "    </tr>\n",
       "    <tr>\n",
       "      <th>2</th>\n",
       "      <td>259360</td>\n",
       "      <td>AAA Batteries (4-pack)</td>\n",
       "      <td>2</td>\n",
       "      <td>2.99</td>\n",
       "      <td>10/24/19 17:20</td>\n",
       "      <td>967 12th St, New York City, NY 10001</td>\n",
       "      <td>10</td>\n",
       "      <td>5.98</td>\n",
       "    </tr>\n",
       "    <tr>\n",
       "      <th>3</th>\n",
       "      <td>259361</td>\n",
       "      <td>27in FHD Monitor</td>\n",
       "      <td>1</td>\n",
       "      <td>149.99</td>\n",
       "      <td>10/14/19 22:26</td>\n",
       "      <td>628 Jefferson St, New York City, NY 10001</td>\n",
       "      <td>10</td>\n",
       "      <td>149.99</td>\n",
       "    </tr>\n",
       "    <tr>\n",
       "      <th>4</th>\n",
       "      <td>259362</td>\n",
       "      <td>Wired Headphones</td>\n",
       "      <td>1</td>\n",
       "      <td>11.99</td>\n",
       "      <td>10/07/19 16:10</td>\n",
       "      <td>534 14th St, Los Angeles, CA 90001</td>\n",
       "      <td>10</td>\n",
       "      <td>11.99</td>\n",
       "    </tr>\n",
       "  </tbody>\n",
       "</table>\n",
       "</div>"
      ],
      "text/plain": [
       "  Order ID                 Product  Quantity Ordered  Price Each  \\\n",
       "0   259358  34in Ultrawide Monitor                 1      379.99   \n",
       "1   259359  27in 4K Gaming Monitor                 1      389.99   \n",
       "2   259360  AAA Batteries (4-pack)                 2        2.99   \n",
       "3   259361        27in FHD Monitor                 1      149.99   \n",
       "4   259362        Wired Headphones                 1       11.99   \n",
       "\n",
       "       Order Date                           Purchase Address  Month   Sales  \n",
       "0  10/28/19 10:56            609 Cherry St, Dallas, TX 75001     10  379.99  \n",
       "1  10/28/19 17:26          225 5th St, Los Angeles, CA 90001     10  389.99  \n",
       "2  10/24/19 17:20       967 12th St, New York City, NY 10001     10    5.98  \n",
       "3  10/14/19 22:26  628 Jefferson St, New York City, NY 10001     10  149.99  \n",
       "4  10/07/19 16:10         534 14th St, Los Angeles, CA 90001     10   11.99  "
      ]
     },
     "execution_count": 88,
     "metadata": {},
     "output_type": "execute_result"
    }
   ],
   "source": [
    "# creating month column\n",
    "df['Month']=df['Order Date'].apply(lambda x: int(x.split(' ')[0].split('/')[0])) \n",
    "\n",
    "# passing 'Quantity Ordered' and 'Price Each' columns to int and float respectively.\n",
    "df['Quantity Ordered']=df['Quantity Ordered'].astype('int32')\n",
    "df['Price Each']=df['Price Each'].astype('float')\n",
    "\n",
    "# total sales column created by multiply the Quantity Ordered with Price Each\n",
    "df['Sales']=df['Price Each']*df['Quantity Ordered']\n",
    "\n",
    "df.head(5)"
   ]
  },
  {
   "cell_type": "code",
   "execution_count": 89,
   "metadata": {},
   "outputs": [
    {
     "name": "stdout",
     "output_type": "stream",
     "text": [
      "Month\n",
      "1     1.822257e+06\n",
      "2     2.202022e+06\n",
      "3     2.807100e+06\n",
      "4     3.390670e+06\n",
      "5     3.152607e+06\n",
      "6     2.577802e+06\n",
      "7     2.647776e+06\n",
      "8     2.244468e+06\n",
      "9     2.097560e+06\n",
      "10    3.736727e+06\n",
      "11    3.199603e+06\n",
      "12    4.613443e+06\n",
      "Name: Sales, dtype: float64\n"
     ]
    }
   ],
   "source": [
    "month_sales=df.groupby(['Month']).sum()['Sales']\n",
    "print(month_sales)"
   ]
  },
  {
   "cell_type": "code",
   "execution_count": 90,
   "metadata": {},
   "outputs": [
    {
     "data": {
      "image/png": "[encoded data removed]",
      "text/plain": [
       "<Figure size 432x288 with 1 Axes>"
      ]
     },
     "metadata": {
      "needs_background": "light"
     },
     "output_type": "display_data"
    }
   ],
   "source": [
    "# visualization\n",
    "import matplotlib.pyplot as plt\n",
    "\n",
    "plt.figure()\n",
    "plt.bar(month_sales.index,month_sales)\n",
    "plt.xlabel('Months')\n",
    "plt.ylabel('Sales')\n",
    "plt.show()"
   ]
  },
  {
   "cell_type": "markdown",
   "metadata": {},
   "source": [
    "December(12) was the month with highest sales, it could be beacuse it is a epoch where people usually spend more money. "
   ]
  },
  {
   "cell_type": "markdown",
   "metadata": {},
   "source": [
    "## City with highest sales"
   ]
  },
  {
   "cell_type": "code",
   "execution_count": 91,
   "metadata": {},
   "outputs": [
    {
     "data": {
      "text/html": [
       "<div>\n",
       "<style scoped>\n",
       "    .dataframe tbody tr th:only-of-type {\n",
       "        vertical-align: middle;\n",
       "    }\n",
       "\n",
       "    .dataframe tbody tr th {\n",
       "        vertical-align: top;\n",
       "    }\n",
       "\n",
       "    .dataframe thead th {\n",
       "        text-align: right;\n",
       "    }\n",
       "</style>\n",
       "<table border=\"1\" class=\"dataframe\">\n",
       "  <thead>\n",
       "    <tr style=\"text-align: right;\">\n",
       "      <th></th>\n",
       "      <th>Order ID</th>\n",
       "      <th>Product</th>\n",
       "      <th>Quantity Ordered</th>\n",
       "      <th>Price Each</th>\n",
       "      <th>Order Date</th>\n",
       "      <th>Purchase Address</th>\n",
       "      <th>Month</th>\n",
       "      <th>Sales</th>\n",
       "      <th>City</th>\n",
       "    </tr>\n",
       "  </thead>\n",
       "  <tbody>\n",
       "    <tr>\n",
       "      <th>0</th>\n",
       "      <td>259358</td>\n",
       "      <td>34in Ultrawide Monitor</td>\n",
       "      <td>1</td>\n",
       "      <td>379.99</td>\n",
       "      <td>10/28/19 10:56</td>\n",
       "      <td>609 Cherry St, Dallas, TX 75001</td>\n",
       "      <td>10</td>\n",
       "      <td>379.99</td>\n",
       "      <td>Dallas TX</td>\n",
       "    </tr>\n",
       "    <tr>\n",
       "      <th>1</th>\n",
       "      <td>259359</td>\n",
       "      <td>27in 4K Gaming Monitor</td>\n",
       "      <td>1</td>\n",
       "      <td>389.99</td>\n",
       "      <td>10/28/19 17:26</td>\n",
       "      <td>225 5th St, Los Angeles, CA 90001</td>\n",
       "      <td>10</td>\n",
       "      <td>389.99</td>\n",
       "      <td>Los Angeles CA</td>\n",
       "    </tr>\n",
       "    <tr>\n",
       "      <th>2</th>\n",
       "      <td>259360</td>\n",
       "      <td>AAA Batteries (4-pack)</td>\n",
       "      <td>2</td>\n",
       "      <td>2.99</td>\n",
       "      <td>10/24/19 17:20</td>\n",
       "      <td>967 12th St, New York City, NY 10001</td>\n",
       "      <td>10</td>\n",
       "      <td>5.98</td>\n",
       "      <td>New York City NY</td>\n",
       "    </tr>\n",
       "    <tr>\n",
       "      <th>3</th>\n",
       "      <td>259361</td>\n",
       "      <td>27in FHD Monitor</td>\n",
       "      <td>1</td>\n",
       "      <td>149.99</td>\n",
       "      <td>10/14/19 22:26</td>\n",
       "      <td>628 Jefferson St, New York City, NY 10001</td>\n",
       "      <td>10</td>\n",
       "      <td>149.99</td>\n",
       "      <td>New York City NY</td>\n",
       "    </tr>\n",
       "    <tr>\n",
       "      <th>4</th>\n",
       "      <td>259362</td>\n",
       "      <td>Wired Headphones</td>\n",
       "      <td>1</td>\n",
       "      <td>11.99</td>\n",
       "      <td>10/07/19 16:10</td>\n",
       "      <td>534 14th St, Los Angeles, CA 90001</td>\n",
       "      <td>10</td>\n",
       "      <td>11.99</td>\n",
       "      <td>Los Angeles CA</td>\n",
       "    </tr>\n",
       "  </tbody>\n",
       "</table>\n",
       "</div>"
      ],
      "text/plain": [
       "  Order ID                 Product  Quantity Ordered  Price Each  \\\n",
       "0   259358  34in Ultrawide Monitor                 1      379.99   \n",
       "1   259359  27in 4K Gaming Monitor                 1      389.99   \n",
       "2   259360  AAA Batteries (4-pack)                 2        2.99   \n",
       "3   259361        27in FHD Monitor                 1      149.99   \n",
       "4   259362        Wired Headphones                 1       11.99   \n",
       "\n",
       "       Order Date                           Purchase Address  Month   Sales  \\\n",
       "0  10/28/19 10:56            609 Cherry St, Dallas, TX 75001     10  379.99   \n",
       "1  10/28/19 17:26          225 5th St, Los Angeles, CA 90001     10  389.99   \n",
       "2  10/24/19 17:20       967 12th St, New York City, NY 10001     10    5.98   \n",
       "3  10/14/19 22:26  628 Jefferson St, New York City, NY 10001     10  149.99   \n",
       "4  10/07/19 16:10         534 14th St, Los Angeles, CA 90001     10   11.99   \n",
       "\n",
       "                City  \n",
       "0          Dallas TX  \n",
       "1     Los Angeles CA  \n",
       "2   New York City NY  \n",
       "3   New York City NY  \n",
       "4     Los Angeles CA  "
      ]
     },
     "execution_count": 91,
     "metadata": {},
     "output_type": "execute_result"
    }
   ],
   "source": [
    "# creating city column\n",
    "df['City']=df['Purchase Address'].apply(lambda x: x.split(',')[1]+' '+x.split(',')[2].split(' ')[1])\n",
    "df.head(5)\n"
   ]
  },
  {
   "cell_type": "code",
   "execution_count": 92,
   "metadata": {},
   "outputs": [
    {
     "name": "stdout",
     "output_type": "stream",
     "text": [
      "City\n",
      " Atlanta GA          2.795499e+06\n",
      " Austin TX           1.819582e+06\n",
      " Boston MA           3.661642e+06\n",
      " Dallas TX           2.767975e+06\n",
      " Los Angeles CA      5.452571e+06\n",
      " New York City NY    4.664317e+06\n",
      " Portland ME         4.497583e+05\n",
      " Portland OR         1.870732e+06\n",
      " San Francisco CA    8.262204e+06\n",
      " Seattle WA          2.747755e+06\n",
      "Name: Sales, dtype: float64\n"
     ]
    }
   ],
   "source": [
    "city_sales=df.groupby(['City']).sum()['Sales']\n",
    "print(city_sales)\n"
   ]
  },
  {
   "cell_type": "code",
   "execution_count": 93,
   "metadata": {},
   "outputs": [
    {
     "data": {
      "image/png": "[encoded data removed]",
      "text/plain": [
       "<Figure size 432x288 with 1 Axes>"
      ]
     },
     "metadata": {
      "needs_background": "light"
     },
     "output_type": "display_data"
    }
   ],
   "source": [
    "# visualization\n",
    "plt.figure()\n",
    "plt.bar(city_sales.index,city_sales)\n",
    "plt.xlabel('Cities')\n",
    "plt.xticks(city_sales.index,rotation='vertical',size=8)\n",
    "plt.ylabel('Sales')\n",
    "plt.show()"
   ]
  },
  {
   "cell_type": "markdown",
   "metadata": {},
   "source": [
    "The city with highest sales is San Francisco CA"
   ]
  },
  {
   "cell_type": "markdown",
   "metadata": {},
   "source": [
    "## ¿What hours are better to advertise?"
   ]
  },
  {
   "cell_type": "code",
   "execution_count": 94,
   "metadata": {},
   "outputs": [
    {
     "data": {
      "text/html": [
       "<div>\n",
       "<style scoped>\n",
       "    .dataframe tbody tr th:only-of-type {\n",
       "        vertical-align: middle;\n",
       "    }\n",
       "\n",
       "    .dataframe tbody tr th {\n",
       "        vertical-align: top;\n",
       "    }\n",
       "\n",
       "    .dataframe thead th {\n",
       "        text-align: right;\n",
       "    }\n",
       "</style>\n",
       "<table border=\"1\" class=\"dataframe\">\n",
       "  <thead>\n",
       "    <tr style=\"text-align: right;\">\n",
       "      <th></th>\n",
       "      <th>Order ID</th>\n",
       "      <th>Product</th>\n",
       "      <th>Quantity Ordered</th>\n",
       "      <th>Price Each</th>\n",
       "      <th>Order Date</th>\n",
       "      <th>Purchase Address</th>\n",
       "      <th>Month</th>\n",
       "      <th>Sales</th>\n",
       "      <th>City</th>\n",
       "      <th>Hour</th>\n",
       "    </tr>\n",
       "  </thead>\n",
       "  <tbody>\n",
       "    <tr>\n",
       "      <th>0</th>\n",
       "      <td>259358</td>\n",
       "      <td>34in Ultrawide Monitor</td>\n",
       "      <td>1</td>\n",
       "      <td>379.99</td>\n",
       "      <td>10/28/19 10:56</td>\n",
       "      <td>609 Cherry St, Dallas, TX 75001</td>\n",
       "      <td>10</td>\n",
       "      <td>379.99</td>\n",
       "      <td>Dallas TX</td>\n",
       "      <td>10</td>\n",
       "    </tr>\n",
       "    <tr>\n",
       "      <th>1</th>\n",
       "      <td>259359</td>\n",
       "      <td>27in 4K Gaming Monitor</td>\n",
       "      <td>1</td>\n",
       "      <td>389.99</td>\n",
       "      <td>10/28/19 17:26</td>\n",
       "      <td>225 5th St, Los Angeles, CA 90001</td>\n",
       "      <td>10</td>\n",
       "      <td>389.99</td>\n",
       "      <td>Los Angeles CA</td>\n",
       "      <td>10</td>\n",
       "    </tr>\n",
       "    <tr>\n",
       "      <th>2</th>\n",
       "      <td>259360</td>\n",
       "      <td>AAA Batteries (4-pack)</td>\n",
       "      <td>2</td>\n",
       "      <td>2.99</td>\n",
       "      <td>10/24/19 17:20</td>\n",
       "      <td>967 12th St, New York City, NY 10001</td>\n",
       "      <td>10</td>\n",
       "      <td>5.98</td>\n",
       "      <td>New York City NY</td>\n",
       "      <td>10</td>\n",
       "    </tr>\n",
       "    <tr>\n",
       "      <th>3</th>\n",
       "      <td>259361</td>\n",
       "      <td>27in FHD Monitor</td>\n",
       "      <td>1</td>\n",
       "      <td>149.99</td>\n",
       "      <td>10/14/19 22:26</td>\n",
       "      <td>628 Jefferson St, New York City, NY 10001</td>\n",
       "      <td>10</td>\n",
       "      <td>149.99</td>\n",
       "      <td>New York City NY</td>\n",
       "      <td>10</td>\n",
       "    </tr>\n",
       "    <tr>\n",
       "      <th>4</th>\n",
       "      <td>259362</td>\n",
       "      <td>Wired Headphones</td>\n",
       "      <td>1</td>\n",
       "      <td>11.99</td>\n",
       "      <td>10/07/19 16:10</td>\n",
       "      <td>534 14th St, Los Angeles, CA 90001</td>\n",
       "      <td>10</td>\n",
       "      <td>11.99</td>\n",
       "      <td>Los Angeles CA</td>\n",
       "      <td>10</td>\n",
       "    </tr>\n",
       "  </tbody>\n",
       "</table>\n",
       "</div>"
      ],
      "text/plain": [
       "  Order ID                 Product  Quantity Ordered  Price Each  \\\n",
       "0   259358  34in Ultrawide Monitor                 1      379.99   \n",
       "1   259359  27in 4K Gaming Monitor                 1      389.99   \n",
       "2   259360  AAA Batteries (4-pack)                 2        2.99   \n",
       "3   259361        27in FHD Monitor                 1      149.99   \n",
       "4   259362        Wired Headphones                 1       11.99   \n",
       "\n",
       "       Order Date                           Purchase Address  Month   Sales  \\\n",
       "0  10/28/19 10:56            609 Cherry St, Dallas, TX 75001     10  379.99   \n",
       "1  10/28/19 17:26          225 5th St, Los Angeles, CA 90001     10  389.99   \n",
       "2  10/24/19 17:20       967 12th St, New York City, NY 10001     10    5.98   \n",
       "3  10/14/19 22:26  628 Jefferson St, New York City, NY 10001     10  149.99   \n",
       "4  10/07/19 16:10         534 14th St, Los Angeles, CA 90001     10   11.99   \n",
       "\n",
       "                City Hour  \n",
       "0          Dallas TX   10  \n",
       "1     Los Angeles CA   10  \n",
       "2   New York City NY   10  \n",
       "3   New York City NY   10  \n",
       "4     Los Angeles CA   10  "
      ]
     },
     "execution_count": 94,
     "metadata": {},
     "output_type": "execute_result"
    }
   ],
   "source": [
    "# creating hour column\n",
    "\n",
    "#import datetime as dt      # datetime way\n",
    "# df['Order Date']=pd.to_datetime(df['Order Date']) \n",
    "# df['Hour']=df['Order Date'].dt.hour\n",
    "\n",
    "df['Hour']=df['Order Date'].apply(lambda x: x.split(' ')[0].split('/')[0])\n",
    "df.head(5)"
   ]
  },
  {
   "cell_type": "markdown",
   "metadata": {},
   "source": [
    "this should be based on Order ID, because are separated by product, then, there are duplicated orders for the same buyer."
   ]
  },
  {
   "cell_type": "code",
   "execution_count": 95,
   "metadata": {},
   "outputs": [
    {
     "data": {
      "text/html": [
       "<div>\n",
       "<style scoped>\n",
       "    .dataframe tbody tr th:only-of-type {\n",
       "        vertical-align: middle;\n",
       "    }\n",
       "\n",
       "    .dataframe tbody tr th {\n",
       "        vertical-align: top;\n",
       "    }\n",
       "\n",
       "    .dataframe thead th {\n",
       "        text-align: right;\n",
       "    }\n",
       "</style>\n",
       "<table border=\"1\" class=\"dataframe\">\n",
       "  <thead>\n",
       "    <tr style=\"text-align: right;\">\n",
       "      <th></th>\n",
       "      <th>Order ID</th>\n",
       "      <th>Product</th>\n",
       "      <th>Quantity Ordered</th>\n",
       "      <th>Price Each</th>\n",
       "      <th>Order Date</th>\n",
       "      <th>Purchase Address</th>\n",
       "      <th>Month</th>\n",
       "      <th>Sales</th>\n",
       "      <th>City</th>\n",
       "      <th>Hour</th>\n",
       "    </tr>\n",
       "  </thead>\n",
       "  <tbody>\n",
       "    <tr>\n",
       "      <th>0</th>\n",
       "      <td>259358</td>\n",
       "      <td>34in Ultrawide Monitor</td>\n",
       "      <td>1</td>\n",
       "      <td>379.99</td>\n",
       "      <td>10/28/19 10:56</td>\n",
       "      <td>609 Cherry St, Dallas, TX 75001</td>\n",
       "      <td>10</td>\n",
       "      <td>379.99</td>\n",
       "      <td>Dallas TX</td>\n",
       "      <td>10</td>\n",
       "    </tr>\n",
       "    <tr>\n",
       "      <th>1</th>\n",
       "      <td>259359</td>\n",
       "      <td>27in 4K Gaming Monitor</td>\n",
       "      <td>1</td>\n",
       "      <td>389.99</td>\n",
       "      <td>10/28/19 17:26</td>\n",
       "      <td>225 5th St, Los Angeles, CA 90001</td>\n",
       "      <td>10</td>\n",
       "      <td>389.99</td>\n",
       "      <td>Los Angeles CA</td>\n",
       "      <td>10</td>\n",
       "    </tr>\n",
       "    <tr>\n",
       "      <th>2</th>\n",
       "      <td>259360</td>\n",
       "      <td>AAA Batteries (4-pack)</td>\n",
       "      <td>2</td>\n",
       "      <td>2.99</td>\n",
       "      <td>10/24/19 17:20</td>\n",
       "      <td>967 12th St, New York City, NY 10001</td>\n",
       "      <td>10</td>\n",
       "      <td>5.98</td>\n",
       "      <td>New York City NY</td>\n",
       "      <td>10</td>\n",
       "    </tr>\n",
       "    <tr>\n",
       "      <th>3</th>\n",
       "      <td>259361</td>\n",
       "      <td>27in FHD Monitor</td>\n",
       "      <td>1</td>\n",
       "      <td>149.99</td>\n",
       "      <td>10/14/19 22:26</td>\n",
       "      <td>628 Jefferson St, New York City, NY 10001</td>\n",
       "      <td>10</td>\n",
       "      <td>149.99</td>\n",
       "      <td>New York City NY</td>\n",
       "      <td>10</td>\n",
       "    </tr>\n",
       "    <tr>\n",
       "      <th>4</th>\n",
       "      <td>259362</td>\n",
       "      <td>Wired Headphones</td>\n",
       "      <td>1</td>\n",
       "      <td>11.99</td>\n",
       "      <td>10/07/19 16:10</td>\n",
       "      <td>534 14th St, Los Angeles, CA 90001</td>\n",
       "      <td>10</td>\n",
       "      <td>11.99</td>\n",
       "      <td>Los Angeles CA</td>\n",
       "      <td>10</td>\n",
       "    </tr>\n",
       "  </tbody>\n",
       "</table>\n",
       "</div>"
      ],
      "text/plain": [
       "  Order ID                 Product  Quantity Ordered  Price Each  \\\n",
       "0   259358  34in Ultrawide Monitor                 1      379.99   \n",
       "1   259359  27in 4K Gaming Monitor                 1      389.99   \n",
       "2   259360  AAA Batteries (4-pack)                 2        2.99   \n",
       "3   259361        27in FHD Monitor                 1      149.99   \n",
       "4   259362        Wired Headphones                 1       11.99   \n",
       "\n",
       "       Order Date                           Purchase Address  Month   Sales  \\\n",
       "0  10/28/19 10:56            609 Cherry St, Dallas, TX 75001     10  379.99   \n",
       "1  10/28/19 17:26          225 5th St, Los Angeles, CA 90001     10  389.99   \n",
       "2  10/24/19 17:20       967 12th St, New York City, NY 10001     10    5.98   \n",
       "3  10/14/19 22:26  628 Jefferson St, New York City, NY 10001     10  149.99   \n",
       "4  10/07/19 16:10         534 14th St, Los Angeles, CA 90001     10   11.99   \n",
       "\n",
       "                City Hour  \n",
       "0          Dallas TX   10  \n",
       "1     Los Angeles CA   10  \n",
       "2   New York City NY   10  \n",
       "3   New York City NY   10  \n",
       "4     Los Angeles CA   10  "
      ]
     },
     "execution_count": 95,
     "metadata": {},
     "output_type": "execute_result"
    }
   ],
   "source": [
    "# first way was take duplicated order values, preserve one and concat with another dataframe with the individual orders\n",
    "# that could get problems, so I use drop_duplicated\n",
    "#df_dup= df[df['Order ID'].duplicated(keep=False)]\n",
    "#df_dup=pd.DataFrame(df_dup.groupby('Order ID')['Hour'].apply(lambda x: ','.join(x).split(',')[0]))\n",
    "\n",
    "df_drop = df.drop_duplicates(subset='Order Date', keep=\"first\")\n",
    "df_drop.head(5)"
   ]
  },
  {
   "cell_type": "code",
   "execution_count": 96,
   "metadata": {},
   "outputs": [
    {
     "name": "stdout",
     "output_type": "stream",
     "text": [
      "Hour\n",
      "01     8099\n",
      "02     9615\n",
      "03    11784\n",
      "04    13574\n",
      "05    12674\n",
      "06    10741\n",
      "07    11349\n",
      "08     9734\n",
      "09     9489\n",
      "10    14847\n",
      "11    13188\n",
      "12    17301\n",
      "Name: Count, dtype: int64\n"
     ]
    },
    {
     "name": "stderr",
     "output_type": "stream",
     "text": [
      "<ipython-input-96-b2d2c3047787>:2: SettingWithCopyWarning: \n",
      "A value is trying to be set on a copy of a slice from a DataFrame.\n",
      "Try using .loc[row_indexer,col_indexer] = value instead\n",
      "\n",
      "See the caveats in the documentation: https://pandas.pydata.org/pandas-docs/stable/user_guide/indexing.html#returning-a-view-versus-a-copy\n",
      "  df_drop['Count']=1\n"
     ]
    }
   ],
   "source": [
    "# now create a count column to obtain puchases number by hour\n",
    "df_drop['Count']=1\n",
    "hours_sales=df_drop.groupby(['Hour']).count()['Count']\n",
    "print(hours_sales)"
   ]
  },
  {
   "cell_type": "code",
   "execution_count": 97,
   "metadata": {},
   "outputs": [
    {
     "data": {
      "image/png": "[encoded data removed]",
      "text/plain": [
       "<Figure size 432x288 with 1 Axes>"
      ]
     },
     "metadata": {
      "needs_background": "light"
     },
     "output_type": "display_data"
    }
   ],
   "source": [
    "# Visualization\n",
    "plt.figure()\n",
    "plt.plot(hours_sales.index,hours_sales)\n",
    "plt.xlabel('Hours')\n",
    "plt.ylabel('Number of sales')\n",
    "plt.grid()\n",
    "plt.show()"
   ]
  },
  {
   "cell_type": "markdown",
   "metadata": {},
   "source": [
    "December was the month with highest sales, followed closely for november, october and april."
   ]
  },
  {
   "cell_type": "markdown",
   "metadata": {},
   "source": [
    "## Products to sell together"
   ]
  },
  {
   "cell_type": "code",
   "execution_count": 98,
   "metadata": {},
   "outputs": [
    {
     "name": "stdout",
     "output_type": "stream",
     "text": [
      "Product\n",
      "iPhone,Lightning Charging Cable                       882\n",
      "Google Phone,USB-C Charging Cable                     856\n",
      "iPhone,Wired Headphones                               361\n",
      "Vareebadd Phone,USB-C Charging Cable                  312\n",
      "Google Phone,Wired Headphones                         303\n",
      "                                                     ... \n",
      "LG Dryer,27in FHD Monitor                               1\n",
      "LG Dryer,27in 4K Gaming Monitor                         1\n",
      "Google Phone,Wired Headphones,USB-C Charging Cable      1\n",
      "Google Phone,Wired Headphones,Macbook Pro Laptop        1\n",
      "iPhone,iPhone                                           1\n",
      "Name: Count, Length: 366, dtype: int64\n"
     ]
    }
   ],
   "source": [
    "# duplicated orders indicates products that were sold together\n",
    "df_dup= df[df['Order ID'].duplicated(keep=False)] \n",
    "df_dup=pd.DataFrame(df_dup.groupby('Order ID')['Product'].apply(','.join)) \n",
    "df_dup['Count']=1\n",
    "product_sales=df_dup.groupby(['Product']).count().sort_values('Count',ascending=False)['Count']\n",
    "print(product_sales)"
   ]
  },
  {
   "cell_type": "markdown",
   "metadata": {},
   "source": [
    "## Product sales quantity"
   ]
  },
  {
   "cell_type": "code",
   "execution_count": 99,
   "metadata": {},
   "outputs": [
    {
     "name": "stdout",
     "output_type": "stream",
     "text": [
      "Product\n",
      "20in Monitor                   4129\n",
      "27in 4K Gaming Monitor         6244\n",
      "27in FHD Monitor               7550\n",
      "34in Ultrawide Monitor         6199\n",
      "AA Batteries (4-pack)         27635\n",
      "AAA Batteries (4-pack)        31017\n",
      "Apple Airpods Headphones      15661\n",
      "Bose SoundSport Headphones    13457\n",
      "Flatscreen TV                  4819\n",
      "Google Phone                   5532\n",
      "LG Dryer                        646\n",
      "LG Washing Machine              666\n",
      "Lightning Charging Cable      23217\n",
      "Macbook Pro Laptop             4728\n",
      "ThinkPad Laptop                4130\n",
      "USB-C Charging Cable          23975\n",
      "Vareebadd Phone                2068\n",
      "Wired Headphones              20557\n",
      "iPhone                         6849\n",
      "Name: Quantity Ordered, dtype: int32\n"
     ]
    }
   ],
   "source": [
    "df['Count']=1\n",
    "products_sales=df.groupby(['Product']).sum()['Quantity Ordered']\n",
    "print(products_sales)"
   ]
  },
  {
   "cell_type": "code",
   "execution_count": 100,
   "metadata": {},
   "outputs": [
    {
     "data": {
      "image/png": "[encoded data removed]",
      "text/plain": [
       "<Figure size 432x288 with 1 Axes>"
      ]
     },
     "metadata": {
      "needs_background": "light"
     },
     "output_type": "display_data"
    }
   ],
   "source": [
    "# visualization\n",
    "plt.figure()\n",
    "plt.bar(products_sales.index,products_sales) \n",
    "plt.xlabel('Products')\n",
    "plt.ylabel('Quantity')\n",
    "plt.xticks(products_sales.index,rotation='vertical',size=8)\n",
    "plt.show()"
   ]
  },
  {
   "cell_type": "code",
   "execution_count": null,
   "metadata": {},
   "outputs": [],
   "source": []
  }
 ],
 "metadata": {
  "kernelspec": {
   "display_name": "Python 3",
   "language": "python",
   "name": "python3"
  },
  "language_info": {
   "codemirror_mode": {
    "name": "ipython",
    "version": 3
   },
   "file_extension": ".py",
   "mimetype": "text/x-python",
   "name": "python",
   "nbconvert_exporter": "python",
   "pygments_lexer": "ipython3",
   "version": "3.8.5"
  }
 },
 "nbformat": 4,
 "nbformat_minor": 4
}
